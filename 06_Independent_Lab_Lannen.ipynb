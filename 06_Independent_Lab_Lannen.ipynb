{
 "cells": [
  {
   "cell_type": "markdown",
   "id": "f5fa50d5-109c-4aa9-b6e5-61686f5548fd",
   "metadata": {},
   "source": [
    "# Week 6 Independent Lab\n",
    "\n",
    "Mark Lannen<br>\n",
    "BGEN 632<br>\n",
    "April 6, 2025<br>"
   ]
  },
  {
   "cell_type": "markdown",
   "id": "7eec95f1-b62e-4cd1-9605-c6271df644a3",
   "metadata": {},
   "source": [
    "1. Initialize student data in 5 lists"
   ]
  },
  {
   "cell_type": "code",
   "execution_count": null,
   "id": "f657be4f-0f56-4bf8-83ff-c15f20a01e4f",
   "metadata": {},
   "outputs": [],
   "source": [
    "2. Create list for academic violations"
   ]
  },
  {
   "cell_type": "code",
   "execution_count": null,
   "id": "314636b9-68e6-4d5d-96aa-8ee1f458556d",
   "metadata": {},
   "outputs": [],
   "source": [
    "first_name = [\"Carmen\", \"Sydney\", \"Neil\", \"Marcus\"]\n",
    "last_name = [\"Berzatto\", \"Adamu\", \"Fak\", \"Brooks\"]\n",
    "major = [\"Culinary Arts\", \"Nursing\", \"Engineering\", \"Business\"]\n",
    "gpa = [3.4, 3.8, 2.7, 3.0]\n",
    "violation = [\"\", \"\", \"\", \"\"]\n",
    "\n",
    "violations = [\n",
    "    \"Copying homework\", \n",
    "    \"Cheating on exam\", \n",
    "    \"Plagiarism\", \n",
    "    \"Cheating on quiz\", \n",
    "    \"Writing paper for another student\"\n",
    "]"
   ]
  }
 ],
 "metadata": {
  "kernelspec": {
   "display_name": "Python 3 (ipykernel)",
   "language": "python",
   "name": "python3"
  },
  "language_info": {
   "codemirror_mode": {
    "name": "ipython",
    "version": 3
   },
   "file_extension": ".py",
   "mimetype": "text/x-python",
   "name": "python",
   "nbconvert_exporter": "python",
   "pygments_lexer": "ipython3",
   "version": "3.12.7"
  }
 },
 "nbformat": 4,
 "nbformat_minor": 5
}
