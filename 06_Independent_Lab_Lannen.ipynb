{
 "cells": [
  {
   "cell_type": "markdown",
   "id": "f5fa50d5-109c-4aa9-b6e5-61686f5548fd",
   "metadata": {},
   "source": [
    "# Week 6 Independent Lab\n",
    "\n",
    "Mark Lannen<br>\n",
    "BGEN 632<br>\n",
    "April 6, 2025<br>"
   ]
  },
  {
   "cell_type": "markdown",
   "id": "7eec95f1-b62e-4cd1-9605-c6271df644a3",
   "metadata": {},
   "source": [
    "1. Initialize student data in 5 lists"
   ]
  },
  {
   "cell_type": "markdown",
   "id": "f29f8545-45d8-487f-b885-53e7bd9d2a03",
   "metadata": {},
   "source": [
    "2. Create list for academic violations"
   ]
  },
  {
   "cell_type": "markdown",
   "id": "05ed8e4f-bc42-4f05-a200-22290e784cf8",
   "metadata": {},
   "source": [
    "3. Create while loop and print 5 input options"
   ]
  },
  {
   "cell_type": "code",
   "execution_count": null,
   "id": "314636b9-68e6-4d5d-96aa-8ee1f458556d",
   "metadata": {},
   "outputs": [
    {
     "name": "stderr",
     "output_type": "stream",
     "text": [
      "IOPub data rate exceeded.\n",
      "The Jupyter server will temporarily stop sending output\n",
      "to the client in order to avoid crashing it.\n",
      "To change this limit, set the config variable\n",
      "`--ServerApp.iopub_data_rate_limit`.\n",
      "\n",
      "Current values:\n",
      "ServerApp.iopub_data_rate_limit=1000000.0 (bytes/sec)\n",
      "ServerApp.rate_limit_window=3.0 (secs)\n",
      "\n"
     ]
    }
   ],
   "source": [
    "first_name = [\"Carmen\", \"Sydney\", \"Neil\", \"Marcus\"]\n",
    "last_name = [\"Berzatto\", \"Adamu\", \"Fak\", \"Brooks\"]\n",
    "major = [\"Culinary Arts\", \"Nursing\", \"Engineering\", \"Business\"]\n",
    "gpa = [3.4, 3.8, 2.7, 3.0]\n",
    "violation = [\"\", \"\", \"\", \"\"]\n",
    "\n",
    "violations = [\n",
    "    \"Copying homework\", \n",
    "    \"Cheating on exam\", \n",
    "    \"Plagiarism\", \n",
    "    \"Cheating on quiz\", \n",
    "    \"Writing paper for another student\"\n",
    "]\n",
    "\n",
    "program_running = True\n",
    "\n",
    "while program_running:\n",
    "    print(\"\\n--- Grade Entry System ---\")\n",
    "    print(\"1. Student Information Query\")\n",
    "    print(\"2. Student Information Entry\")\n",
    "    print(\"3. Query GPA Metrics\")\n",
    "    print(\"4. Academic Violations\")\n",
    "    print(\"5. Quit Program\")\n",
    "    break\n"
   ]
  },
  {
   "cell_type": "code",
   "execution_count": null,
   "id": "5995b59f-e669-41dc-acc6-ecb31797237c",
   "metadata": {},
   "outputs": [],
   "source": []
  }
 ],
 "metadata": {
  "kernelspec": {
   "display_name": "Python 3 (ipykernel)",
   "language": "python",
   "name": "python3"
  },
  "language_info": {
   "codemirror_mode": {
    "name": "ipython",
    "version": 3
   },
   "file_extension": ".py",
   "mimetype": "text/x-python",
   "name": "python",
   "nbconvert_exporter": "python",
   "pygments_lexer": "ipython3",
   "version": "3.12.7"
  }
 },
 "nbformat": 4,
 "nbformat_minor": 5
}
