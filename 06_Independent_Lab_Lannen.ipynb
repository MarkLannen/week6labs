{
 "cells": [
  {
   "cell_type": "markdown",
   "id": "f5fa50d5-109c-4aa9-b6e5-61686f5548fd",
   "metadata": {},
   "source": [
    "Week 6 Independent Lab\n",
    "¶\n",
    "Mark Lannen\n",
    "BGEN 632\n",
    "April 6, 2025"
   ]
  },
  {
   "cell_type": "code",
   "execution_count": null,
   "id": "63c75025-5857-4991-9763-5335f22ed4e2",
   "metadata": {},
   "outputs": [],
   "source": []
  }
 ],
 "metadata": {
  "kernelspec": {
   "display_name": "Python 3 (ipykernel)",
   "language": "python",
   "name": "python3"
  },
  "language_info": {
   "codemirror_mode": {
    "name": "ipython",
    "version": 3
   },
   "file_extension": ".py",
   "mimetype": "text/x-python",
   "name": "python",
   "nbconvert_exporter": "python",
   "pygments_lexer": "ipython3",
   "version": "3.12.7"
  }
 },
 "nbformat": 4,
 "nbformat_minor": 5
}
