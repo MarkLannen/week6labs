{
 "cells": [
  {
   "cell_type": "markdown",
   "id": "f5fa50d5-109c-4aa9-b6e5-61686f5548fd",
   "metadata": {},
   "source": [
    "# Week 6 Independent Lab\n",
    "\n",
    "Mark Lannen<br>\n",
    "BGEN 632<br>\n",
    "April 6, 2025<br>"
   ]
  },
  {
   "cell_type": "markdown",
   "id": "7eec95f1-b62e-4cd1-9605-c6271df644a3",
   "metadata": {},
   "source": [
    "1. Initialize student data in 5 lists"
   ]
  },
  {
   "cell_type": "markdown",
   "id": "f29f8545-45d8-487f-b885-53e7bd9d2a03",
   "metadata": {},
   "source": [
    "2. Create list for academic violations"
   ]
  },
  {
   "cell_type": "markdown",
   "id": "05ed8e4f-bc42-4f05-a200-22290e784cf8",
   "metadata": {},
   "source": [
    "3. Create while loop and print 5 input options"
   ]
  },
  {
   "cell_type": "markdown",
   "id": "62e620f9-db48-4368-a4df-c79d4514f3ae",
   "metadata": {},
   "source": [
    "4. Add if statement for 'Student Information Query'"
   ]
  },
  {
   "cell_type": "code",
   "execution_count": 1,
   "id": "314636b9-68e6-4d5d-96aa-8ee1f458556d",
   "metadata": {},
   "outputs": [
    {
     "name": "stdout",
     "output_type": "stream",
     "text": [
      "\n",
      "Grade Entry System\n",
      "1. Student Information Query\n",
      "2. Student Information Entry\n",
      "3. Query GPA Metrics\n",
      "4. Academic Violations\n",
      "5. Quit Program\n"
     ]
    },
    {
     "name": "stdin",
     "output_type": "stream",
     "text": [
      "Enter 1, 2, 3, 4, or 5 1\n"
     ]
    },
    {
     "name": "stdout",
     "output_type": "stream",
     "text": [
      "Student List\n",
      " Carmen Berzatto Major: Culinary Arts, GPA: [3.4, 3.8, 2.7, 3.0], Academic Violations: None\n"
     ]
    }
   ],
   "source": [
    "first_name = [\"Carmen\", \"Sydney\", \"Neil\", \"Marcus\"]\n",
    "last_name = [\"Berzatto\", \"Adamu\", \"Fak\", \"Brooks\"]\n",
    "major = [\"Culinary Arts\", \"Nursing\", \"Engineering\", \"Business\"]\n",
    "gpa = [3.4, 3.8, 2.7, 3.0]\n",
    "academic_violations = [\"\", \"\", \"\", \"\"]\n",
    "\n",
    "academic_violation_options = [\n",
    "    \"Copying homework\", \n",
    "    \"Cheating on exam\", \n",
    "    \"Plagiarism\", \n",
    "    \"Cheating on quiz\", \n",
    "    \"Writing paper for another student\"\n",
    "]\n",
    "\n",
    "program_running = True\n",
    "\n",
    "while program_running:\n",
    "    print(\"\\nGrade Entry System\")\n",
    "    print(\"1. Student Information Query\")\n",
    "    print(\"2. Student Information Entry\")\n",
    "    print(\"3. Query GPA Metrics\")\n",
    "    print(\"4. Academic Violations\")\n",
    "    print(\"5. Quit Program\")\n",
    "    break #comment out after testing\n",
    "\n",
    "selection = input(\"Enter 1, 2, 3, 4, or 5\")\n",
    "\n",
    "if selection == \"1\":\n",
    "    print(\"Student List\")\n",
    "    i = 0\n",
    "    while i < len(first_name):\n",
    "        av = \"No\"\n",
    "        if academic_violations[i] != \"\":\n",
    "            av= academic_violations[i]\n",
    "        else:\n",
    "            av = \"None\"\n",
    "        print(f\" {first_name[i]} {last_name[i]} Major: {major[i]}, GPA: {gpa[i]}, Academic Violations: {av}\")\n",
    "        \n",
    "        break \n",
    "        # i += 1\n"
   ]
  },
  {
   "cell_type": "code",
   "execution_count": null,
   "id": "87302fc1-b2de-4ce9-9f17-67eb99d8965c",
   "metadata": {},
   "outputs": [],
   "source": [
    "\n",
    "        \n",
    "        \n",
    "            \n",
    "        "
   ]
  },
  {
   "cell_type": "code",
   "execution_count": null,
   "id": "b81dfc3c-0187-49cd-b3b9-4dc771f01d62",
   "metadata": {},
   "outputs": [],
   "source": []
  }
 ],
 "metadata": {
  "kernelspec": {
   "display_name": "Python 3 (ipykernel)",
   "language": "python",
   "name": "python3"
  },
  "language_info": {
   "codemirror_mode": {
    "name": "ipython",
    "version": 3
   },
   "file_extension": ".py",
   "mimetype": "text/x-python",
   "name": "python",
   "nbconvert_exporter": "python",
   "pygments_lexer": "ipython3",
   "version": "3.12.7"
  }
 },
 "nbformat": 4,
 "nbformat_minor": 5
}
