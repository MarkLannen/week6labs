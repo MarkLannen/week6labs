{
 "cells": [
  {
   "cell_type": "markdown",
   "id": "f5fa50d5-109c-4aa9-b6e5-61686f5548fd",
   "metadata": {},
   "source": [
    "# Week 6 Independent Lab\n",
    "\n",
    "Mark Lannen<br>\n",
    "BGEN 632<br>\n",
    "April 6, 2025<br>"
   ]
  },
  {
   "cell_type": "markdown",
   "id": "7eec95f1-b62e-4cd1-9605-c6271df644a3",
   "metadata": {},
   "source": [
    "1. Initialize student data in 5 lists"
   ]
  },
  {
   "cell_type": "markdown",
   "id": "f29f8545-45d8-487f-b885-53e7bd9d2a03",
   "metadata": {},
   "source": [
    "2. Create list for academic violations"
   ]
  },
  {
   "cell_type": "markdown",
   "id": "05ed8e4f-bc42-4f05-a200-22290e784cf8",
   "metadata": {},
   "source": [
    "3. Create while loop and print 5 input options"
   ]
  },
  {
   "cell_type": "markdown",
   "id": "62e620f9-db48-4368-a4df-c79d4514f3ae",
   "metadata": {},
   "source": [
    "4. Add if statement for 'Student Information Query'\n",
    "   Loops through lists and prints out info for each student after checking if they have any academic violations."
   ]
  },
  {
   "cell_type": "markdown",
   "id": "aee0dc54-1f79-4550-9d69-bbb73bcd2f90",
   "metadata": {},
   "source": [
    "5. Add elif statement to add new student\n",
    "   Provides prompts to enter enter info for new student"
   ]
  },
  {
   "cell_type": "markdown",
   "id": "637c736a-bb33-4972-be1a-2ca2068335bd",
   "metadata": {},
   "source": [
    "6. Add elif statement to print out min, max and avg of all student gpas"
   ]
  },
  {
   "cell_type": "markdown",
   "id": "53bb199c-7a4d-464b-9ef6-fa1ce1e765f4",
   "metadata": {},
   "source": [
    "7. Add elif statemetn for adding academic violations\n",
    "   Loops through all students to check if they have academic violations and prints out if they have none\n",
    "       It prints out each student with an index to be used when assigning academic violations\n",
    "   It then asks for user input to select a student and assign them an academic violation\n",
    "       Converts the string input to an integer\n",
    "   Then adds the violation to the academic_violations list at the appropriate index\n",
    "   \n",
    "   "
   ]
  },
  {
   "cell_type": "markdown",
   "id": "59f13cab-88f9-4110-ab5a-98778a76418c",
   "metadata": {},
   "source": [
    "##Source\n",
    "https://github.com/MarkLannen/week6labs/blob/main/assets/06_Independent_Lab_chatgpt.pdf"
   ]
  },
  {
   "cell_type": "code",
   "execution_count": null,
   "id": "314636b9-68e6-4d5d-96aa-8ee1f458556d",
   "metadata": {},
   "outputs": [
    {
     "name": "stdout",
     "output_type": "stream",
     "text": [
      "\n",
      "Grade Entry System\n",
      "1. Student Information Query\n",
      "2. Student Information Entry\n",
      "3. Query GPA Metrics\n",
      "4. Academic Violations\n",
      "5. Quit Program\n"
     ]
    },
    {
     "name": "stdin",
     "output_type": "stream",
     "text": [
      "Enter 1, 2, 3, 4, or 5 3\n"
     ]
    },
    {
     "name": "stdout",
     "output_type": "stream",
     "text": [
      "\n",
      "GPA Metrics\n",
      "Max GPA: 3.8\n",
      "Min GPA: 2.7\n",
      "Average GPA: 3.225\n",
      "\n",
      "Grade Entry System\n",
      "1. Student Information Query\n",
      "2. Student Information Entry\n",
      "3. Query GPA Metrics\n",
      "4. Academic Violations\n",
      "5. Quit Program\n"
     ]
    },
    {
     "name": "stdin",
     "output_type": "stream",
     "text": [
      "Enter 1, 2, 3, 4, or 5 2\n"
     ]
    },
    {
     "name": "stdout",
     "output_type": "stream",
     "text": [
      "\n",
      "Add new student\n"
     ]
    },
    {
     "name": "stdin",
     "output_type": "stream",
     "text": [
      "Enter first name Mark\n",
      "Enter last name Lannen\n",
      "Enter major History\n",
      "Enter gpa 3.5\n"
     ]
    },
    {
     "name": "stdout",
     "output_type": "stream",
     "text": [
      "\n",
      "Student added\n",
      "\n",
      "Grade Entry System\n",
      "1. Student Information Query\n",
      "2. Student Information Entry\n",
      "3. Query GPA Metrics\n",
      "4. Academic Violations\n",
      "5. Quit Program\n"
     ]
    },
    {
     "name": "stdin",
     "output_type": "stream",
     "text": [
      "Enter 1, 2, 3, 4, or 5 2\n"
     ]
    },
    {
     "name": "stdout",
     "output_type": "stream",
     "text": [
      "\n",
      "Add new student\n"
     ]
    },
    {
     "name": "stdin",
     "output_type": "stream",
     "text": [
      "Enter first name Franklin\n",
      "Enter last name Roosevelt\n",
      "Enter major Economics\n",
      "Enter gpa 4.0\n"
     ]
    },
    {
     "name": "stdout",
     "output_type": "stream",
     "text": [
      "\n",
      "Student added\n",
      "\n",
      "Grade Entry System\n",
      "1. Student Information Query\n",
      "2. Student Information Entry\n",
      "3. Query GPA Metrics\n",
      "4. Academic Violations\n",
      "5. Quit Program\n"
     ]
    },
    {
     "name": "stdin",
     "output_type": "stream",
     "text": [
      "Enter 1, 2, 3, 4, or 5 3\n"
     ]
    },
    {
     "name": "stdout",
     "output_type": "stream",
     "text": [
      "\n",
      "GPA Metrics\n",
      "Max GPA: 4.0\n",
      "Min GPA: 2.7\n",
      "Average GPA: 3.4\n",
      "\n",
      "Grade Entry System\n",
      "1. Student Information Query\n",
      "2. Student Information Entry\n",
      "3. Query GPA Metrics\n",
      "4. Academic Violations\n",
      "5. Quit Program\n"
     ]
    },
    {
     "name": "stdin",
     "output_type": "stream",
     "text": [
      "Enter 1, 2, 3, 4, or 5 4\n"
     ]
    },
    {
     "name": "stdout",
     "output_type": "stream",
     "text": [
      "\n",
      "Academic Violation\n",
      "1. Carmen Berzatto - Violation: None\n",
      "2. Sydney Adamu - Violation: None\n",
      "3. Neil Fak - Violation: None\n",
      "4. Marcus Brooks - Violation: None\n",
      "5. Mark Lannen - Violation: None\n",
      "6. Franklin Roosevelt - Violation: None\n"
     ]
    },
    {
     "name": "stdin",
     "output_type": "stream",
     "text": [
      "Select a student by number:  3\n"
     ]
    },
    {
     "name": "stdout",
     "output_type": "stream",
     "text": [
      "\n",
      "Violation Options\n",
      "1. Copying homework\n",
      "2. Cheating on exam\n",
      "3. Plagiarism\n",
      "4. Cheating on quiz\n",
      "5. Writing paper for another student\n"
     ]
    },
    {
     "name": "stdin",
     "output_type": "stream",
     "text": [
      "Select a violation by number:  4\n"
     ]
    },
    {
     "name": "stdout",
     "output_type": "stream",
     "text": [
      "Violation updated.\n",
      "\n",
      "Grade Entry System\n",
      "1. Student Information Query\n",
      "2. Student Information Entry\n",
      "3. Query GPA Metrics\n",
      "4. Academic Violations\n",
      "5. Quit Program\n"
     ]
    },
    {
     "name": "stdin",
     "output_type": "stream",
     "text": [
      "Enter 1, 2, 3, 4, or 5 4\n"
     ]
    },
    {
     "name": "stdout",
     "output_type": "stream",
     "text": [
      "\n",
      "Academic Violation\n",
      "1. Carmen Berzatto - Violation: None\n",
      "2. Sydney Adamu - Violation: None\n",
      "3. Neil Fak - Violation: Cheating on quiz\n",
      "4. Marcus Brooks - Violation: None\n",
      "5. Mark Lannen - Violation: None\n",
      "6. Franklin Roosevelt - Violation: None\n"
     ]
    },
    {
     "name": "stdin",
     "output_type": "stream",
     "text": [
      "Select a student by number:  5\n"
     ]
    },
    {
     "name": "stdout",
     "output_type": "stream",
     "text": [
      "\n",
      "Violation Options\n",
      "1. Copying homework\n",
      "2. Cheating on exam\n",
      "3. Plagiarism\n",
      "4. Cheating on quiz\n",
      "5. Writing paper for another student\n"
     ]
    },
    {
     "name": "stdin",
     "output_type": "stream",
     "text": [
      "Select a violation by number:  5\n"
     ]
    },
    {
     "name": "stdout",
     "output_type": "stream",
     "text": [
      "Violation updated.\n",
      "\n",
      "Grade Entry System\n",
      "1. Student Information Query\n",
      "2. Student Information Entry\n",
      "3. Query GPA Metrics\n",
      "4. Academic Violations\n",
      "5. Quit Program\n"
     ]
    },
    {
     "name": "stdin",
     "output_type": "stream",
     "text": [
      "Enter 1, 2, 3, 4, or 5 1\n"
     ]
    },
    {
     "name": "stdout",
     "output_type": "stream",
     "text": [
      "Student List\n",
      " Carmen Berzatto Major: Culinary Arts, GPA: 3.4, Academic Violations: None\n",
      " Sydney Adamu Major: Nursing, GPA: 3.8, Academic Violations: None\n",
      " Neil Fak Major: Engineering, GPA: 2.7, Academic Violations: Cheating on quiz\n",
      " Marcus Brooks Major: Business, GPA: 3.0, Academic Violations: None\n",
      " Mark Lannen Major: History, GPA: 3.5, Academic Violations: Writing paper for another student\n",
      " Franklin Roosevelt Major: Economics, GPA: 4.0, Academic Violations: None\n",
      "\n",
      "Grade Entry System\n",
      "1. Student Information Query\n",
      "2. Student Information Entry\n",
      "3. Query GPA Metrics\n",
      "4. Academic Violations\n",
      "5. Quit Program\n"
     ]
    }
   ],
   "source": [
    "first_name = [\"Carmen\", \"Sydney\", \"Neil\", \"Marcus\"]\n",
    "last_name = [\"Berzatto\", \"Adamu\", \"Fak\", \"Brooks\"]\n",
    "majors = [\"Culinary Arts\", \"Nursing\", \"Engineering\", \"Business\"]\n",
    "gpas = [3.4, 3.8, 2.7, 3.0]\n",
    "academic_violations = [\"\", \"\", \"\", \"\"]\n",
    "\n",
    "academic_violation_options = [\n",
    "    \"Copying homework\", \n",
    "    \"Cheating on exam\", \n",
    "    \"Plagiarism\", \n",
    "    \"Cheating on quiz\", \n",
    "    \"Writing paper for another student\"\n",
    "]\n",
    "\n",
    "program_running = True\n",
    "\n",
    "while program_running:\n",
    "    print(\"\\nGrade Entry System\")\n",
    "    print(\"1. Student Information Query\")\n",
    "    print(\"2. Student Information Entry\")\n",
    "    print(\"3. Query GPA Metrics\")\n",
    "    print(\"4. Academic Violations\")\n",
    "    print(\"5. Quit Program\")\n",
    "    # break #comment out after testing\n",
    "\n",
    "    selection = input(\"Enter 1, 2, 3, 4, or 5\")\n",
    "\n",
    "    if selection == \"1\":\n",
    "        print(\"Student List\")\n",
    "        i = 0\n",
    "        while i < len(first_name):\n",
    "            av = \"No\"\n",
    "            if academic_violations[i] != \"\":\n",
    "                av= academic_violations[i]\n",
    "            else:\n",
    "                av = \"None\"\n",
    "            print(f\" {first_name[i]} {last_name[i]} Major: {majors[i]}, GPA: {gpas[i]}, Academic Violations: {av}\")\n",
    "            \n",
    "            # break \n",
    "            i += 1\n",
    "\n",
    "    elif selection == \"2\":\n",
    "        print(\"\\nAdd new student\")\n",
    "        first = input(\"Enter first name\")\n",
    "        last = input(\"Enter last name\")\n",
    "        major = input(\"Enter major\")\n",
    "        gpa = float(input(\"Enter gpa\"))\n",
    "\n",
    "        first_name.append(first)\n",
    "        last_name.append(last)\n",
    "        majors.append(major)\n",
    "        gpas.append(gpa)\n",
    "        academic_violations.append(\"\")\n",
    "        print(\"\\nStudent added\")\n",
    "\n",
    "    elif selection == \"3\":\n",
    "        print(\"\\nGPA Metrics\")\n",
    "        total_gpa = sum(gpas)\n",
    "        max_gpa = max(gpas)\n",
    "        min_gpa = min(gpas)\n",
    "        avg_gpa = total_gpa / len(gpas)\n",
    "\n",
    "        print(f\"Max GPA: {(max_gpa)}\")\n",
    "        print(f\"Min GPA: {(min_gpa)}\")\n",
    "        print(f\"Average GPA: {(avg_gpa)}\")\n",
    "\n",
    "    elif selection == \"4\":\n",
    "        print(\"\\nAcademic Violation\")\n",
    "        i = 0\n",
    "        while i < len(first_name):\n",
    "            if academic_violations[i] != \"\":\n",
    "                av = academic_violations[i]\n",
    "            else:\n",
    "                av = \"None\"\n",
    "            print(f\"{i + 1}. {first_name[i]} {last_name[i]} - Violation: {av}\")\n",
    "            i += 1\n",
    "        \n",
    "        student_index_input = input(\"Select a student by number: \")\n",
    "        student_index = int(student_index_input) - 1 \n",
    "\n",
    "        print(\"\\nViolation Options\")\n",
    "        i = 0\n",
    "        while i < len(academic_violation_options):\n",
    "            print(f\"{i+1}. {academic_violation_options[i]}\")\n",
    "            i += 1\n",
    "\n",
    "        violation_input = input(\"Select a violation by number: \")\n",
    "        violation_number = int(violation_input) - 1\n",
    "\n",
    "        academic_violations[student_index] = academic_violation_options[violation_number]\n",
    "        print(\"Violation updated.\")\n",
    "\n",
    "    else:\n",
    "        print(\"Invalid selection: please select 1, 2, 3, 4 or 5\")\n",
    "\n",
    "        \n",
    "\n"
   ]
  }
 ],
 "metadata": {
  "kernelspec": {
   "display_name": "Python 3 (ipykernel)",
   "language": "python",
   "name": "python3"
  },
  "language_info": {
   "codemirror_mode": {
    "name": "ipython",
    "version": 3
   },
   "file_extension": ".py",
   "mimetype": "text/x-python",
   "name": "python",
   "nbconvert_exporter": "python",
   "pygments_lexer": "ipython3",
   "version": "3.12.7"
  }
 },
 "nbformat": 4,
 "nbformat_minor": 5
}
