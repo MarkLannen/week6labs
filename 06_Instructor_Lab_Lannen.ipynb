{
 "cells": [
  {
   "cell_type": "markdown",
   "id": "65bfd51e-bff9-4493-bd98-79a8cdc764cc",
   "metadata": {},
   "source": [
    "# Week 6 Instructor Lab<br>\n",
    "Mark Lannen<br>\n",
    "BGEN 632<br>\n",
    "April 6, 2025"
   ]
  },
  {
   "cell_type": "markdown",
   "id": "d6638f57-dfa8-4028-8831-655a68c08a51",
   "metadata": {},
   "source": [
    "Import random library"
   ]
  },
  {
   "cell_type": "code",
   "execution_count": 1,
   "id": "89d5aa4b-fdc7-4c3b-b8b5-b7337647a0b9",
   "metadata": {},
   "outputs": [],
   "source": [
    "import random as rand"
   ]
  },
  {
   "cell_type": "markdown",
   "id": "741a5cd2-7e35-4aa9-a04b-b4d913c1028c",
   "metadata": {},
   "source": [
    "Create python list with variables for responses as each list item"
   ]
  },
  {
   "cell_type": "code",
   "execution_count": 2,
   "id": "c8b22cfb-f522-4e4b-bdc1-9485f54fd37e",
   "metadata": {},
   "outputs": [],
   "source": [
    "answers = [\n",
    "\"It is certain\",\n",
    "\"It is decidedly so\",\n",
    "\"That question requires greater monetary compensation\",\n",
    "\"Reply is hazy; try again, with more money\",\n",
    "\"Concentrate and ask again\",\n",
    "\"My reply is no\",\n",
    "\"Outlook is not so good\",\n",
    "\"Very doubtful\",\n",
    "\"Seriously, that's your question?\",\n",
    "\"I think you have bigger things to worry about\",\n",
    "\"Absolutely, 100%!\"\n",
    "]"
   ]
  },
  {
   "cell_type": "markdown",
   "id": "39e7593c-689f-450a-acff-6b2d03b0ba04",
   "metadata": {},
   "source": [
    "Create boolean to check if at least one question has already been asked.\n",
    "Create list to record questions asked.\n",
    "Create list to record answers given.\n",
    "Create variable to record cost per question."
   ]
  },
  {
   "cell_type": "code",
   "execution_count": 3,
   "id": "5d3a8ee0-acd7-4564-9199-7301b29d739a",
   "metadata": {},
   "outputs": [],
   "source": [
    "min_one_question_asked = False\n",
    "questions_asked = []\n",
    "answers_given = []\n",
    "cost_per_question = 30.0"
   ]
  },
  {
   "cell_type": "markdown",
   "id": "6324918e-356c-4278-a4ae-d0700f6b0ac2",
   "metadata": {},
   "source": [
    "Print welcom. Create while loop that will continue until user decides to stop asking questions and get the total. Nested if statement to check if at least one question has been asked and provide appropriate response.\n",
    "print option 2 to review questions and responses\n",
    "print option 3 to complete services and pay\n"
   ]
  },
  {
   "cell_type": "code",
   "execution_count": 9,
   "id": "d470f278-f4a3-488b-a543-df006be32b1e",
   "metadata": {},
   "outputs": [
    {
     "name": "stdout",
     "output_type": "stream",
     "text": [
      "Welcome to the all-seeing computer!\n",
      "\n",
      "1. Ask your first question\n",
      "2. Review questions and responses\n",
      "3. Complete services and pay\n"
     ]
    }
   ],
   "source": [
    "print(\"Welcome to the all-seeing computer!\")\n",
    "while True:\n",
    "    if min_one_question_asked == False:\n",
    "        print(\"\\n1. Ask your first question\")\n",
    "    else: \n",
    "        print(\"\\n1. Ask another question\")\n",
    "    print(\"2. Review questions and responses\")\n",
    "    print(\"3. Complete services and pay\")\n",
    "    break\n",
    "    "
   ]
  },
  {
   "cell_type": "code",
   "execution_count": null,
   "id": "4d1a492e-30e1-48ae-8e9f-ea3e146c116f",
   "metadata": {},
   "outputs": [],
   "source": []
  }
 ],
 "metadata": {
  "kernelspec": {
   "display_name": "Python 3 (ipykernel)",
   "language": "python",
   "name": "python3"
  },
  "language_info": {
   "codemirror_mode": {
    "name": "ipython",
    "version": 3
   },
   "file_extension": ".py",
   "mimetype": "text/x-python",
   "name": "python",
   "nbconvert_exporter": "python",
   "pygments_lexer": "ipython3",
   "version": "3.12.7"
  }
 },
 "nbformat": 4,
 "nbformat_minor": 5
}
