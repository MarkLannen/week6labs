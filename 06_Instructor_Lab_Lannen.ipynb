{
 "cells": [
  {
   "cell_type": "markdown",
   "id": "65bfd51e-bff9-4493-bd98-79a8cdc764cc",
   "metadata": {},
   "source": [
    "# Week 6 Instructor Lab<br>\n",
    "Mark Lannen<br>\n",
    "BGEN 632<br>\n",
    "April 6, 2025"
   ]
  },
  {
   "cell_type": "markdown",
   "id": "d6638f57-dfa8-4028-8831-655a68c08a51",
   "metadata": {},
   "source": [
    "Import random library"
   ]
  },
  {
   "cell_type": "code",
   "execution_count": null,
   "id": "89d5aa4b-fdc7-4c3b-b8b5-b7337647a0b9",
   "metadata": {},
   "outputs": [],
   "source": [
    "import random as rand"
   ]
  },
  {
   "cell_type": "markdown",
   "id": "741a5cd2-7e35-4aa9-a04b-b4d913c1028c",
   "metadata": {},
   "source": [
    "Create python list with variables for responses as each list item"
   ]
  },
  {
   "cell_type": "code",
   "execution_count": null,
   "id": "c8b22cfb-f522-4e4b-bdc1-9485f54fd37e",
   "metadata": {},
   "outputs": [],
   "source": [
    "answers = [\n",
    "\"It is certain\",\n",
    "\"It is decidedly so\",\n",
    "\"That question requires greater monetary compensation\",\n",
    "\"Reply is hazy; try again, with more money\",\n",
    "\"Concentrate and ask again\",\n",
    "\"My reply is no\",\n",
    "\"Outlook is not so good\",\n",
    "\"Very doubtful\",\n",
    "\"That's seriously your question?\",\n",
    "\"I think you have bigger things to worry about\",\n",
    "\"Absolutely, 100%!\"\n",
    "]"
   ]
  },
  {
   "cell_type": "code",
   "execution_count": null,
   "id": "cc4af5d9-770d-4b2d-8b5b-a28e4b19e042",
   "metadata": {},
   "outputs": [],
   "source": []
  }
 ],
 "metadata": {
  "kernelspec": {
   "display_name": "Python 3 (ipykernel)",
   "language": "python",
   "name": "python3"
  },
  "language_info": {
   "codemirror_mode": {
    "name": "ipython",
    "version": 3
   },
   "file_extension": ".py",
   "mimetype": "text/x-python",
   "name": "python",
   "nbconvert_exporter": "python",
   "pygments_lexer": "ipython3",
   "version": "3.12.7"
  }
 },
 "nbformat": 4,
 "nbformat_minor": 5
}
