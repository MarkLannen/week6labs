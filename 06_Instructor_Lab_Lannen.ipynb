{
 "cells": [
  {
   "cell_type": "markdown",
   "id": "65bfd51e-bff9-4493-bd98-79a8cdc764cc",
   "metadata": {},
   "source": [
    "# Week 6 Instructor Lab<br>\n",
    "Mark Lannen<br>\n",
    "BGEN 632<br>\n",
    "April 6, 2025"
   ]
  },
  {
   "cell_type": "markdown",
   "id": "d6638f57-dfa8-4028-8831-655a68c08a51",
   "metadata": {},
   "source": [
    "1. Import random library"
   ]
  },
  {
   "cell_type": "markdown",
   "id": "741a5cd2-7e35-4aa9-a04b-b4d913c1028c",
   "metadata": {},
   "source": [
    "2. Create python list with variables for responses as each list item"
   ]
  },
  {
   "cell_type": "markdown",
   "id": "39e7593c-689f-450a-acff-6b2d03b0ba04",
   "metadata": {},
   "source": [
    "3. Create boolean to check if at least one question has already been asked.\n",
    "Create list to record questions asked.\n",
    "Create list to record answers given.\n",
    "Create variable to record cost per question."
   ]
  },
  {
   "cell_type": "markdown",
   "id": "6324918e-356c-4278-a4ae-d0700f6b0ac2",
   "metadata": {},
   "source": [
    "4. Print welcome.<br>\n",
    "Create while loop that will continue until user decides to stop asking questions and get the total. Nested if statement to check if at least one question has been asked and provide appropriate response.<br>\n",
    "print option 2 to review questions and responses.<br>\n",
    "print option 3 to complete services and pay.<br>\n"
   ]
  },
  {
   "cell_type": "markdown",
   "id": "fbf821e6-5d45-4d42-a991-215b08f2eadb",
   "metadata": {},
   "source": [
    "5. Create choice variable to prompt and store input and write if statement for first choice."
   ]
  },
  {
   "cell_type": "markdown",
   "id": "6e808f2d-6fd9-4292-8f0a-e0c44329996e",
   "metadata": {},
   "source": [
    "6. Write elif statement for option 2."
   ]
  },
  {
   "cell_type": "markdown",
   "id": "860011ad-8bdc-45ce-88a3-84f4b72c0ef9",
   "metadata": {},
   "source": [
    "7. Write elif statement for 3rd choice"
   ]
  },
  {
   "cell_type": "markdown",
   "id": "3d75da1e-47cb-479e-8179-169ef13a71ab",
   "metadata": {},
   "source": [
    "8. Else statement to handle invalid selection."
   ]
  },
  {
   "cell_type": "markdown",
   "id": "a1536897-8d1c-4ecb-8466-ca1a2d2f8625",
   "metadata": {},
   "source": [
    "## Sources: https://github.com/MarkLannen/week6labs/blob/main/assets/06_chatgpt_prompts_responses.pdf"
   ]
  },
  {
   "cell_type": "code",
   "execution_count": null,
   "id": "d470f278-f4a3-488b-a543-df006be32b1e",
   "metadata": {},
   "outputs": [
    {
     "name": "stdout",
     "output_type": "stream",
     "text": [
      "Welcome to the all-seeing computer!\n",
      "\n",
      "1. Ask your first question\n",
      "2. Review questions and responses\n",
      "3. Complete services and pay\n"
     ]
    },
    {
     "name": "stdin",
     "output_type": "stream",
     "text": [
      "Select option: 1, 2 or 3  1\n",
      "Ask what you seek to know... Will I be rich one day?\n"
     ]
    },
    {
     "name": "stdout",
     "output_type": "stream",
     "text": [
      "Seriously, that's your question?\n",
      "\n",
      "1. Ask another question\n",
      "2. Review questions and responses\n",
      "3. Complete services and pay\n"
     ]
    },
    {
     "name": "stdin",
     "output_type": "stream",
     "text": [
      "Select option: 1, 2 or 3  1\n",
      "Ask what you seek to know... Will the USMNT ever win the world cup?\n"
     ]
    },
    {
     "name": "stdout",
     "output_type": "stream",
     "text": [
      "Concentrate and ask again\n",
      "\n",
      "1. Ask another question\n",
      "2. Review questions and responses\n",
      "3. Complete services and pay\n"
     ]
    },
    {
     "name": "stdin",
     "output_type": "stream",
     "text": [
      "Select option: 1, 2 or 3  1\n",
      "Ask what you seek to know... Will interest rates go back down soon?\n"
     ]
    },
    {
     "name": "stdout",
     "output_type": "stream",
     "text": [
      "That question requires greater monetary compensation\n",
      "\n",
      "1. Ask another question\n",
      "2. Review questions and responses\n",
      "3. Complete services and pay\n"
     ]
    },
    {
     "name": "stdin",
     "output_type": "stream",
     "text": [
      "Select option: 1, 2 or 3  1\n",
      "Ask what you seek to know... Will I buy a new house in the next 3 years?\n"
     ]
    },
    {
     "name": "stdout",
     "output_type": "stream",
     "text": [
      "It is certain\n",
      "\n",
      "1. Ask another question\n",
      "2. Review questions and responses\n",
      "3. Complete services and pay\n"
     ]
    },
    {
     "name": "stdin",
     "output_type": "stream",
     "text": [
      "Select option: 1, 2 or 3  2\n"
     ]
    },
    {
     "name": "stdout",
     "output_type": "stream",
     "text": [
      "Your questions and the computer's responses:\n",
      "Question: \"Will I buy a new house in the next 3 years?\"\n",
      "Question: \"It is certain\"\n",
      "Question: \"Will I be rich one day?\"\n",
      "Question: \"Seriously, that's your question?\"\n",
      "Question: \"Will the USMNT ever win the world cup?\"\n",
      "Question: \"Concentrate and ask again\"\n",
      "Question: \"Will interest rates go back down soon?\"\n",
      "Question: \"That question requires greater monetary compensation\"\n",
      "Question: \"Will I buy a new house in the next 3 years?\"\n",
      "Question: \"It is certain\"\n",
      "\n",
      "1. Ask another question\n",
      "2. Review questions and responses\n",
      "3. Complete services and pay\n"
     ]
    },
    {
     "name": "stdin",
     "output_type": "stream",
     "text": [
      "Select option: 1, 2 or 3  3\n"
     ]
    },
    {
     "name": "stdout",
     "output_type": "stream",
     "text": [
      "Thank you for visiting the all-seeing computer.\n",
      "You asked 4 question(s). The charge for my services today is $ 120.00.\n",
      "\n",
      "\n",
      "1. Ask another question\n",
      "2. Review questions and responses\n",
      "3. Complete services and pay\n"
     ]
    }
   ],
   "source": [
    "import random as rand\n",
    "\n",
    "answers = [\n",
    "\"It is certain\",\n",
    "\"It is decidedly so\",\n",
    "\"That question requires greater monetary compensation\",\n",
    "\"Reply is hazy; try again, with more money\",\n",
    "\"Concentrate and ask again\",\n",
    "\"My reply is no\",\n",
    "\"Outlook is not so good\",\n",
    "\"Very doubtful\",\n",
    "\"Seriously, that's your question?\",\n",
    "\"I think you have bigger things to worry about\",\n",
    "\"Absolutely, 100%!\"\n",
    "]\n",
    "\n",
    "min_one_question_asked = False\n",
    "questions_asked = []\n",
    "answers_given = []\n",
    "cost_per_question = 30.0\n",
    "\n",
    "print(\"Welcome to the all-seeing computer!\")\n",
    "\n",
    "while True:\n",
    "    if min_one_question_asked == False:\n",
    "        print(\"\\n1. Ask your first question\")\n",
    "    else: \n",
    "        print(\"\\n1. Ask another question\")\n",
    "    print(\"2. Review questions and responses\")\n",
    "    print(\"3. Complete services and pay\")\n",
    "    \n",
    "    choice = input(\"Select option: 1, 2 or 3 \")\n",
    "    \n",
    "    if choice == \"1\":\n",
    "        question = input(\"Ask what you seek to know...\")\n",
    "        response = rand.choice(answers)\n",
    "        questions_asked.append(question)\n",
    "        answers_given.append(response)\n",
    "        print(f\"{response}\")\n",
    "        min_one_question_asked = True\n",
    "\n",
    "    elif choice == \"2\":\n",
    "        print(\"Your questions and the computer's responses:\")\n",
    "        if len(questions_asked) == 0:\n",
    "            print(\"You haven't asked any questions yet\")\n",
    "        else:\n",
    "            i = 0\n",
    "            while i <= len(questions_asked):\n",
    "                print(f'Question: \"{questions_asked[i-1]}\"')\n",
    "                print(f'Question: \"{answers_given[i-1]}\"')\n",
    "                i += 1\n",
    "                \n",
    "    elif choice == \"3\":\n",
    "        total_cost = cost_per_question * len(questions_asked)\n",
    "        print(\"Thank you for visiting the all-seeing computer.\")\n",
    "        print(f\"You asked {len(questions_asked)} question(s). The charge for my services today is ${total_cost: .2f}.\\n\")\n",
    "\n",
    "    else: \n",
    "        print('That is an invalid selection. Please select either 1, 2 or 3')"
   ]
  },
  {
   "cell_type": "code",
   "execution_count": null,
   "id": "ef93ffd4-8b69-4b92-ab49-b092ff8fde6a",
   "metadata": {},
   "outputs": [],
   "source": []
  }
 ],
 "metadata": {
  "kernelspec": {
   "display_name": "Python 3 (ipykernel)",
   "language": "python",
   "name": "python3"
  },
  "language_info": {
   "codemirror_mode": {
    "name": "ipython",
    "version": 3
   },
   "file_extension": ".py",
   "mimetype": "text/x-python",
   "name": "python",
   "nbconvert_exporter": "python",
   "pygments_lexer": "ipython3",
   "version": "3.12.7"
  }
 },
 "nbformat": 4,
 "nbformat_minor": 5
}
