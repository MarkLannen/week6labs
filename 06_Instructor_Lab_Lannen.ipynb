{
 "cells": [
  {
   "cell_type": "markdown",
   "id": "65bfd51e-bff9-4493-bd98-79a8cdc764cc",
   "metadata": {},
   "source": [
    "# Week 6 Instructor Lab<br>\n",
    "Mark Lannen<br>\n",
    "BGEN 632<br>\n",
    "April 6, 2025"
   ]
  },
  {
   "cell_type": "markdown",
   "id": "a6949481-1205-4b27-a64a-2131c89e378e",
   "metadata": {},
   "source": []
  }
 ],
 "metadata": {
  "kernelspec": {
   "display_name": "Python 3 (ipykernel)",
   "language": "python",
   "name": "python3"
  },
  "language_info": {
   "codemirror_mode": {
    "name": "ipython",
    "version": 3
   },
   "file_extension": ".py",
   "mimetype": "text/x-python",
   "name": "python",
   "nbconvert_exporter": "python",
   "pygments_lexer": "ipython3",
   "version": "3.12.7"
  }
 },
 "nbformat": 4,
 "nbformat_minor": 5
}
